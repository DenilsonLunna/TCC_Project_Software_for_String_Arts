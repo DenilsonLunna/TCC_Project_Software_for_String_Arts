{
 "cells": [
  {
   "cell_type": "code",
   "execution_count": null,
   "metadata": {},
   "outputs": [],
   "source": [
    "import cv2 \n",
    "import numpy as np\n",
    "from matplotlib import pyplot as plt\n",
    "\n",
    "imagem = cv2.imread(\"rosto01.jpg\",0)\n",
    "\n",
    "\n",
    "\n",
    "    \n",
    "ret,imgT = cv2.threshold(imagem,100,255,cv2.THRESH_BINARY)\n",
    "print (\"teste\")\n",
    "cv2.imshow(\"soccer\",imgT)\n",
    "cv2.waitKey(0)\n",
    "cv2.destroyAllWindows()\n",
    "\n",
    "\n",
    "\n",
    "\n",
    "\n",
    "\n",
    "    \n",
    "\n",
    "\n",
    "\n",
    "\n"
   ]
  },
  {
   "cell_type": "markdown",
   "metadata": {},
   "source": [
    "# Função que redimensiona imagem proporsionalmente"
   ]
  },
  {
   "cell_type": "code",
   "execution_count": null,
   "metadata": {},
   "outputs": [],
   "source": [
    "def redimesionar_Imagem(imagem):\n",
    "    largura = imagem.shape[1]\n",
    "    altura = imagem.shape[0]\n",
    "    proporcao = float(altura/largura)\n",
    "    largura_nova = 400 #em pixels\n",
    "    altura_nova = int(largura_nova*proporcao)\n",
    "    tamanho_novo = (largura_nova, altura_nova)\n",
    "    img_redimensionada = cv2.resize(imagem,tamanho_novo, interpolation = cv2.INTER_AREA)\n",
    "    return img_redimensionada\n",
    "    "
   ]
  },
  {
   "cell_type": "code",
   "execution_count": null,
   "metadata": {},
   "outputs": [],
   "source": []
  }
 ],
 "metadata": {
  "kernelspec": {
   "display_name": "Python 3",
   "language": "python",
   "name": "python3"
  },
  "language_info": {
   "codemirror_mode": {
    "name": "ipython",
    "version": 3
   },
   "file_extension": ".py",
   "mimetype": "text/x-python",
   "name": "python",
   "nbconvert_exporter": "python",
   "pygments_lexer": "ipython3",
   "version": "3.7.4"
  }
 },
 "nbformat": 4,
 "nbformat_minor": 2
}
